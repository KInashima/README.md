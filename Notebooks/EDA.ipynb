{
 "cells": [
  {
   "attachments": {},
   "cell_type": "markdown",
   "id": "033d4f2f",
   "metadata": {},
   "source": [
    "Sprint 4: SDA US SUV Vehicles Analysis"
   ]
  },
  {
   "attachments": {},
   "cell_type": "markdown",
   "id": "fc013a36",
   "metadata": {},
   "source": [
    "This notebook is going to follow through the process of how the vehicle data is imported, preprocessed through the data for adequate processing, data are grouped, and analysed for statistical significance.\n",
    "\n",
    "The vehicle data is analyzed through the condition of the vehicle, to compare between following factors:\n",
    "\n",
    "1. The posting length vs foreign or dommestic SUV make and model year\n",
    "2. The price vs foreign or domestic SUV make and model year\n"
   ]
  },
  {
   "cell_type": "code",
   "execution_count": 42,
   "id": "744730fd",
   "metadata": {},
   "outputs": [
    {
     "ename": "ModuleNotFoundError",
     "evalue": "No module named 'streamlit'",
     "output_type": "error",
     "traceback": [
      "\u001b[1;31m---------------------------------------------------------------------------\u001b[0m",
      "\u001b[1;31mModuleNotFoundError\u001b[0m                       Traceback (most recent call last)",
      "\u001b[1;32m~\\AppData\\Local\\Temp\\ipykernel_16884\\3138830991.py\u001b[0m in \u001b[0;36m<module>\u001b[1;34m\u001b[0m\n\u001b[1;32m----> 1\u001b[1;33m \u001b[1;32mimport\u001b[0m \u001b[0mstreamlit\u001b[0m \u001b[1;32mas\u001b[0m \u001b[0mst\u001b[0m\u001b[1;33m\u001b[0m\u001b[1;33m\u001b[0m\u001b[0m\n\u001b[0m\u001b[0;32m      2\u001b[0m \u001b[1;32mimport\u001b[0m \u001b[0mpandas\u001b[0m \u001b[1;32mas\u001b[0m \u001b[0mpd\u001b[0m\u001b[1;33m\u001b[0m\u001b[1;33m\u001b[0m\u001b[0m\n\u001b[0;32m      3\u001b[0m \u001b[1;32mimport\u001b[0m \u001b[0mplotly_express\u001b[0m \u001b[1;32mas\u001b[0m \u001b[0mpx\u001b[0m\u001b[1;33m\u001b[0m\u001b[1;33m\u001b[0m\u001b[0m\n\u001b[0;32m      4\u001b[0m \u001b[1;32mimport\u001b[0m \u001b[0mnumpy\u001b[0m \u001b[1;32mas\u001b[0m \u001b[0mnp\u001b[0m\u001b[1;33m\u001b[0m\u001b[1;33m\u001b[0m\u001b[0m\n\u001b[0;32m      5\u001b[0m \u001b[1;32mfrom\u001b[0m \u001b[0mscipy\u001b[0m \u001b[1;32mimport\u001b[0m \u001b[0mstats\u001b[0m \u001b[1;32mas\u001b[0m \u001b[0mstat\u001b[0m\u001b[1;33m\u001b[0m\u001b[1;33m\u001b[0m\u001b[0m\n",
      "\u001b[1;31mModuleNotFoundError\u001b[0m: No module named 'streamlit'"
     ]
    }
   ],
   "source": [
    "import streamlit as st\n",
    "import pandas as pd\n",
    "import plotly_express as px\n",
    "import numpy as np\n",
    "from scipy import stats as stat\n",
    "from matplotlib import pyplot as plt"
   ]
  },
  {
   "attachments": {},
   "cell_type": "markdown",
   "id": "b087f227",
   "metadata": {},
   "source": [
    "Necessary packages are imported"
   ]
  },
  {
   "cell_type": "code",
   "execution_count": null,
   "id": "0bb46eee",
   "metadata": {},
   "outputs": [],
   "source": [
    "st.header('Sprint 4: SDA US SUV Vehicles Analysis')\n",
    "txt = st.text_area('Analysis description', 'SUV is a popular type of vehicle, like its name, suggests it has a wide utility. This project is going to analyze how domestic and foreign make SUVs compare in a couple of factors. The first is how long they are posted before being sold. Second, is how the price of the SUV compares. Finally, they were both compared through the SUV condition')\n"
   ]
  },
  {
   "cell_type": "code",
   "execution_count": null,
   "id": "e8ce7051",
   "metadata": {
    "scrolled": true
   },
   "outputs": [
    {
     "name": "stdout",
     "output_type": "stream",
     "text": [
      "       price  model_year           model  condition  cylinders fuel  odometer  \\\n",
      "0       9400      2011.0          bmw x5       good        6.0  gas  145000.0   \n",
      "1      25500         NaN      ford f-150       good        6.0  gas   88705.0   \n",
      "2       5500      2013.0  hyundai sonata   like new        4.0  gas  110000.0   \n",
      "3       1500      2003.0      ford f-150       fair        8.0  gas       NaN   \n",
      "4      14900      2017.0    chrysler 200  excellent        4.0  gas   80903.0   \n",
      "...      ...         ...             ...        ...        ...  ...       ...   \n",
      "51520   9249      2013.0   nissan maxima   like new        6.0  gas   88136.0   \n",
      "51521   2700      2002.0     honda civic    salvage        4.0  gas  181500.0   \n",
      "51522   3950      2009.0  hyundai sonata  excellent        4.0  gas  128000.0   \n",
      "51523   7455      2013.0  toyota corolla       good        4.0  gas  139573.0   \n",
      "51524   6300      2014.0   nissan altima       good        4.0  gas       NaN   \n",
      "\n",
      "      transmission    type paint_color  is_4wd date_posted  days_listed  \n",
      "0        automatic     SUV         NaN     1.0  2018-06-23           19  \n",
      "1        automatic  pickup       white     1.0  2018-10-19           50  \n",
      "2        automatic   sedan         red     NaN  2019-02-07           79  \n",
      "3        automatic  pickup         NaN     NaN  2019-03-22            9  \n",
      "4        automatic   sedan       black     NaN  2019-04-02           28  \n",
      "...            ...     ...         ...     ...         ...          ...  \n",
      "51520    automatic   sedan       black     NaN  2018-10-03           37  \n",
      "51521    automatic   sedan       white     NaN  2018-11-14           22  \n",
      "51522    automatic   sedan        blue     NaN  2018-11-15           32  \n",
      "51523    automatic   sedan       black     NaN  2018-07-02           71  \n",
      "51524    automatic   sedan         NaN     NaN  2018-06-05           10  \n",
      "\n",
      "[51525 rows x 13 columns]\n"
     ]
    }
   ],
   "source": [
    "veh_info_df=pd.read_csv('vehicles_us.csv')\n",
    "print(veh_info_df)"
   ]
  },
  {
   "cell_type": "code",
   "execution_count": null,
   "id": "a69ff992",
   "metadata": {},
   "outputs": [],
   "source": [
    "veh_info_df['date_posted']=pd.to_datetime(veh_info_df['date_posted'],format='%Y-%m-%d')"
   ]
  },
  {
   "cell_type": "code",
   "execution_count": null,
   "id": "ed37fc8f",
   "metadata": {
    "scrolled": false
   },
   "outputs": [
    {
     "name": "stdout",
     "output_type": "stream",
     "text": [
      "<class 'pandas.core.frame.DataFrame'>\n",
      "Int64Index: 47906 entries, 0 to 51524\n",
      "Data columns (total 16 columns):\n",
      " #   Column        Non-Null Count  Dtype         \n",
      "---  ------        --------------  -----         \n",
      " 0   price         47906 non-null  int64         \n",
      " 1   model_year    47906 non-null  int64         \n",
      " 2   model         47906 non-null  object        \n",
      " 3   condition     47906 non-null  object        \n",
      " 4   cylinders     47906 non-null  int64         \n",
      " 5   fuel          47906 non-null  object        \n",
      " 6   odometer      47906 non-null  float64       \n",
      " 7   transmission  47906 non-null  object        \n",
      " 8   type          47906 non-null  object        \n",
      " 9   paint_color   47906 non-null  object        \n",
      " 10  is_4wd        47906 non-null  int64         \n",
      " 11  date_posted   47906 non-null  datetime64[ns]\n",
      " 12  days_listed   47906 non-null  int64         \n",
      " 13  year          47906 non-null  int64         \n",
      " 14  age           47906 non-null  float64       \n",
      " 15  make          47906 non-null  object        \n",
      "dtypes: datetime64[ns](1), float64(2), int64(6), object(7)\n",
      "memory usage: 6.2+ MB\n"
     ]
    }
   ],
   "source": [
    "veh_info_df=veh_info_df.dropna(subset='model_year')\n",
    "veh_info_df=veh_info_df.fillna(0)\n",
    "veh_info_df['paint_color']=veh_info_df['paint_color'].replace([0],'missing')\n",
    "veh_info_df.info()"
   ]
  },
  {
   "cell_type": "code",
   "execution_count": null,
   "id": "03a43527",
   "metadata": {
    "scrolled": true
   },
   "outputs": [],
   "source": [
    "veh_info_df=veh_info_df.astype({'price':'float64','model_year':'float64','cylinders':'float64','odometer':'float64','is_4wd':'float64','days_listed':'float64'})\n",
    "veh_info_df=veh_info_df.astype({'price':'int64','model_year':'int64','cylinders':'int64','is_4wd':'int64','days_listed':'int64'})"
   ]
  },
  {
   "attachments": {},
   "cell_type": "markdown",
   "id": "78bbfee0",
   "metadata": {},
   "source": [
    "Up to this point the format of the data are reviewed, and the data type of certain columns are changed for appropriate processing. Especially certain data type that were object are changed to integers. The missing data were selectively modified. The model_year were removed due to being an important factor in the analysis. The other missing datas are either changed to 0, or stringed as 'missing'"
   ]
  },
  {
   "cell_type": "code",
   "execution_count": null,
   "id": "61f6fe3e",
   "metadata": {
    "scrolled": true
   },
   "outputs": [],
   "source": [
    "veh_info_df['model'] = veh_info_df['model'].astype(str)\n",
    "veh_info_df['make'] = veh_info_df['model'].apply(lambda x: x.split()[0])"
   ]
  },
  {
   "cell_type": "code",
   "execution_count": null,
   "id": "8320f7a1",
   "metadata": {},
   "outputs": [
    {
     "name": "stdout",
     "output_type": "stream",
     "text": [
      "['bmw' 'hyundai' 'ford' 'chrysler' 'toyota' 'honda' 'kia' 'chevrolet'\n",
      " 'ram' 'gmc' 'jeep' 'nissan' 'subaru' 'dodge' 'mercedes-benz' 'acura'\n",
      " 'cadillac' 'volkswagen' 'buick']\n"
     ]
    }
   ],
   "source": [
    "print(veh_info_df['make'].unique())"
   ]
  },
  {
   "cell_type": "code",
   "execution_count": null,
   "id": "2d79772f",
   "metadata": {},
   "outputs": [
    {
     "name": "stdout",
     "output_type": "stream",
     "text": [
      "['acura tl', 'bmw x5', 'buick enclave', 'cadillac escalade', 'chevrolet camaro', 'chevrolet camaro lt coupe 2d', 'chevrolet colorado', 'chevrolet corvette', 'chevrolet cruze', 'chevrolet equinox', 'chevrolet impala', 'chevrolet malibu', 'chevrolet silverado', 'chevrolet silverado 1500', 'chevrolet silverado 1500 crew', 'chevrolet silverado 2500hd', 'chevrolet silverado 3500hd', 'chevrolet suburban', 'chevrolet tahoe', 'chevrolet trailblazer', 'chevrolet traverse', 'chrysler 200', 'chrysler 300', 'chrysler town & country', 'dodge charger', 'dodge dakota', 'dodge grand caravan', 'ford econoline', 'ford edge', 'ford escape', 'ford expedition', 'ford explorer', 'ford f-150', 'ford f-250', 'ford f-250 sd', 'ford f-250 super duty', 'ford f-350 sd', 'ford f150', 'ford f150 supercrew cab xlt', 'ford f250', 'ford f250 super duty', 'ford f350', 'ford f350 super duty', 'ford focus', 'ford focus se', 'ford fusion', 'ford fusion se', 'ford mustang', 'ford mustang gt coupe 2d', 'ford ranger', 'ford taurus', 'gmc acadia', 'gmc sierra', 'gmc sierra 1500', 'gmc sierra 2500hd', 'gmc yukon', 'honda accord', 'honda civic', 'honda civic lx', 'honda cr-v', 'honda odyssey', 'honda pilot', 'hyundai elantra', 'hyundai santa fe', 'hyundai sonata', 'jeep cherokee', 'jeep grand cherokee', 'jeep grand cherokee laredo', 'jeep liberty', 'jeep wrangler', 'jeep wrangler unlimited', 'kia sorento', 'kia soul', 'mercedes-benz benze sprinter 2500', 'nissan altima', 'nissan frontier', 'nissan frontier crew cab sv', 'nissan maxima', 'nissan murano', 'nissan rogue', 'nissan sentra', 'nissan versa', 'ram 1500', 'ram 2500', 'ram 3500', 'subaru forester', 'subaru impreza', 'subaru outback', 'toyota 4runner', 'toyota camry', 'toyota camry le', 'toyota corolla', 'toyota highlander', 'toyota prius', 'toyota rav4', 'toyota sienna', 'toyota tacoma', 'toyota tundra', 'volkswagen jetta', 'volkswagen passat']\n"
     ]
    }
   ],
   "source": [
    "unique_model=veh_info_df['model'].unique()\n",
    "print(sorted(unique_model))"
   ]
  },
  {
   "cell_type": "code",
   "execution_count": null,
   "id": "33d26548",
   "metadata": {},
   "outputs": [],
   "source": [
    "f150_wrong_names=['ford f-150']\n",
    "f250_wrong_names=['ford f-250', 'ford f-250 sd', 'ford f-250 super duty','ford f250 super duty']\n",
    "f350_wrong_names=['ford f-350 sd','ford f350 super duty']\n",
    "f150='ford f150'\n",
    "f250='ford f250'\n",
    "f350='ford f350'"
   ]
  },
  {
   "cell_type": "code",
   "execution_count": null,
   "id": "07830c75",
   "metadata": {},
   "outputs": [],
   "source": [
    "def replace_wrong_values(wrong_values, correct_value):\n",
    "    for wrong_value in wrong_values:\n",
    "        veh_info_df['model'] = veh_info_df['model'].replace(wrong_value, correct_value)\n",
    "\n",
    "replace_wrong_values(f150_wrong_names, f150)\n",
    "replace_wrong_values(f250_wrong_names, f250)\n",
    "replace_wrong_values(f350_wrong_names, f350)"
   ]
  },
  {
   "attachments": {},
   "cell_type": "markdown",
   "id": "b4ef7367",
   "metadata": {},
   "source": [
    "New column for make of Vehicle was created. Then viewed the unique names of make, and model, and corrected the model name that were repeated multiple times in multiple variance. This was most present with Fords names. "
   ]
  },
  {
   "cell_type": "markdown",
   "id": "b801af8e",
   "metadata": {},
   "source": []
  },
  {
   "attachments": {},
   "cell_type": "markdown",
   "id": "e3d199a5",
   "metadata": {},
   "source": [
    "Analyzing the mean days posted between domestic and foreign SUV make and their model years"
   ]
  },
  {
   "cell_type": "code",
   "execution_count": null,
   "id": "55424208",
   "metadata": {},
   "outputs": [],
   "source": [
    "states=['good', 'like new', 'fair', 'excellent', 'salvage', 'new']\n",
    "cond_suv=st.selectbox(\"Condition of SUV\", states)"
   ]
  },
  {
   "cell_type": "code",
   "execution_count": null,
   "id": "cdb1d8e3",
   "metadata": {},
   "outputs": [
    {
     "ename": "NameError",
     "evalue": "name 'cond_suv' is not defined",
     "output_type": "error",
     "traceback": [
      "\u001b[1;31m---------------------------------------------------------------------------\u001b[0m",
      "\u001b[1;31mNameError\u001b[0m                                 Traceback (most recent call last)",
      "\u001b[1;32m~\\AppData\\Local\\Temp\\ipykernel_16884\\2920906305.py\u001b[0m in \u001b[0;36m<module>\u001b[1;34m\u001b[0m\n\u001b[0;32m      2\u001b[0m \u001b[0mcar_dom\u001b[0m\u001b[1;33m=\u001b[0m\u001b[0mveh_info_df\u001b[0m\u001b[1;33m.\u001b[0m\u001b[0mquery\u001b[0m\u001b[1;33m(\u001b[0m\u001b[1;34m\"make in @domesetic_maker\"\u001b[0m\u001b[1;33m)\u001b[0m\u001b[1;33m\u001b[0m\u001b[1;33m\u001b[0m\u001b[0m\n\u001b[0;32m      3\u001b[0m \u001b[0msuv_dom\u001b[0m\u001b[1;33m=\u001b[0m\u001b[0mcar_dom\u001b[0m\u001b[1;33m[\u001b[0m\u001b[0mcar_dom\u001b[0m\u001b[1;33m[\u001b[0m\u001b[1;34m'type'\u001b[0m\u001b[1;33m]\u001b[0m\u001b[1;33m==\u001b[0m\u001b[1;34m'SUV'\u001b[0m\u001b[1;33m]\u001b[0m\u001b[1;33m\u001b[0m\u001b[1;33m\u001b[0m\u001b[0m\n\u001b[1;32m----> 4\u001b[1;33m \u001b[0msuv_dom\u001b[0m \u001b[1;33m=\u001b[0m \u001b[0msuv_dom\u001b[0m\u001b[1;33m[\u001b[0m\u001b[0msuv_dom\u001b[0m\u001b[1;33m[\u001b[0m\u001b[1;34m\"condition\"\u001b[0m\u001b[1;33m]\u001b[0m \u001b[1;33m==\u001b[0m \u001b[0mcond_suv\u001b[0m\u001b[1;33m]\u001b[0m\u001b[1;33m\u001b[0m\u001b[1;33m\u001b[0m\u001b[0m\n\u001b[0m\u001b[0;32m      5\u001b[0m \u001b[0mdom_time\u001b[0m\u001b[1;33m=\u001b[0m\u001b[0msuv_dom\u001b[0m\u001b[1;33m.\u001b[0m\u001b[0mgroupby\u001b[0m\u001b[1;33m(\u001b[0m\u001b[1;33m[\u001b[0m\u001b[1;34m'make'\u001b[0m\u001b[1;33m,\u001b[0m\u001b[1;34m'model_year'\u001b[0m\u001b[1;33m]\u001b[0m\u001b[1;33m)\u001b[0m\u001b[1;33m[\u001b[0m\u001b[1;34m'days_listed'\u001b[0m\u001b[1;33m]\u001b[0m\u001b[1;33m.\u001b[0m\u001b[0mmean\u001b[0m\u001b[1;33m(\u001b[0m\u001b[1;33m)\u001b[0m\u001b[1;33m.\u001b[0m\u001b[0mreset_index\u001b[0m\u001b[1;33m(\u001b[0m\u001b[1;33m)\u001b[0m\u001b[1;33m\u001b[0m\u001b[1;33m\u001b[0m\u001b[0m\n\u001b[0;32m      6\u001b[0m \u001b[0mfig_dom_time\u001b[0m \u001b[1;33m=\u001b[0m \u001b[0mpx\u001b[0m\u001b[1;33m.\u001b[0m\u001b[0mhistogram\u001b[0m\u001b[1;33m(\u001b[0m\u001b[0mdom_time\u001b[0m\u001b[1;33m,\u001b[0m \u001b[0mx\u001b[0m\u001b[1;33m=\u001b[0m\u001b[1;34m\"model_year\"\u001b[0m\u001b[1;33m,\u001b[0m \u001b[0my\u001b[0m\u001b[1;33m=\u001b[0m\u001b[1;34m\"days_listed\"\u001b[0m\u001b[1;33m,\u001b[0m\u001b[0mcolor\u001b[0m\u001b[1;33m=\u001b[0m\u001b[1;34m'make'\u001b[0m\u001b[1;33m,\u001b[0m \u001b[0mbarmode\u001b[0m\u001b[1;33m=\u001b[0m\u001b[1;34m'group'\u001b[0m\u001b[1;33m,\u001b[0m \u001b[0mlabels\u001b[0m\u001b[1;33m=\u001b[0m\u001b[1;33m{\u001b[0m\u001b[1;34m\"model_year\"\u001b[0m\u001b[1;33m:\u001b[0m\u001b[1;34m\"Year\"\u001b[0m\u001b[1;33m,\u001b[0m \u001b[1;34m\"days_listed\"\u001b[0m\u001b[1;33m:\u001b[0m\u001b[1;34m\"Days\"\u001b[0m\u001b[1;33m}\u001b[0m\u001b[1;33m,\u001b[0m \u001b[0mtitle\u001b[0m\u001b[1;33m=\u001b[0m\u001b[1;34m\"Days vs SUV Make and Year\"\u001b[0m\u001b[1;33m)\u001b[0m\u001b[1;33m\u001b[0m\u001b[1;33m\u001b[0m\u001b[0m\n",
      "\u001b[1;31mNameError\u001b[0m: name 'cond_suv' is not defined"
     ]
    }
   ],
   "source": [
    "domesetic_maker=['chrysler','chevrolet','gmc','ram', 'jeep','ford','dodge', 'buick','cadillac']\n",
    "car_dom=veh_info_df.query(\"make in @domesetic_maker\")\n",
    "suv_dom=car_dom[car_dom['type']=='SUV']\n",
    "suv_dom = suv_dom[suv_dom[\"condition\"] == cond_suv]\n",
    "dom_time=suv_dom.groupby(['make','model_year'])['days_listed'].mean().reset_index()\n",
    "fig_dom_time = px.histogram(dom_time, x=\"model_year\", y=\"days_listed\",color='make', barmode='group', labels={\"model_year\":\"Year\", \"days_listed\":\"Days\"}, title=\"Days vs Domestic SUV Make and Year\")\n",
    "st.plotly_chart(fig_dom_time, theme=None, use_container_width=True)"
   ]
  },
  {
   "cell_type": "code",
   "execution_count": null,
   "id": "8ff81927",
   "metadata": {},
   "outputs": [],
   "source": [
    "international_maker=['honda','subaru','nissan','toyota','bmw','hyundai','kia','volkswagen','acura']\n",
    "car_int=veh_info_df.query(\"make in @international_maker\")\n",
    "suv_int=car_int[car_int['type']=='SUV']\n",
    "suv_int = suv_int[car_int[\"condition\"] == cond_suv]\n",
    "int_time=suv_int.groupby(['make','model_year'])['days_listed'].mean().reset_index()\n",
    "fig_int_time= px.histogram(int_time, x=\"model_year\", y=\"days_listed\",color='make', barmode='group', labels={\"model_year\":\"Year\", \"days_listed\":\"Days\"}, title=\"Days vs Foreign SUV Make and Year\")\n",
    "st.plotly_chart(fig_int_time, theme=None, use_container_width=True)"
   ]
  },
  {
   "cell_type": "code",
   "execution_count": null,
   "id": "0c790fbe",
   "metadata": {},
   "outputs": [],
   "source": [
    "dom_time_mean=dom_time['days_listed'].mean()\n",
    "int_time_mean=int_time['days_listed'].mean()\n",
    "dom_time_var = np.var(dom_time['days_listed'])\n",
    "int_time_var = np.var(int_time['days_listed'])\n",
    "dom_time_std=np.std(dom_time['days_listed'])\n",
    "int_time_std=np.std(int_time['days_listed'])"
   ]
  },
  {
   "attachments": {},
   "cell_type": "markdown",
   "id": "1e3a892d",
   "metadata": {},
   "source": [
    "N0: Foreign and Domestic SUV make listing dates are similar\n",
    "N1: Foreign Make SUV listing dates are statistically different than domestic"
   ]
  },
  {
   "cell_type": "code",
   "execution_count": null,
   "id": "f3ff4aa5",
   "metadata": {},
   "outputs": [
    {
     "name": "stdout",
     "output_type": "stream",
     "text": [
      "p-value: 0.6792355706861287\n",
      "We can't reject the null hypothesis\n"
     ]
    }
   ],
   "source": [
    "alpha = 0.05\n",
    "\n",
    "hypo_results = stat.ttest_ind(dom_time['days_listed'], int_time['days_listed'], equal_var=False)\n",
    "\n",
    "print('p-value:', hypo_results.pvalue)\n",
    "\n",
    "if hypo_results.pvalue < alpha:\n",
    "    print(\"We reject the null hypothesis\")\n",
    "else:\n",
    "    print(\"We can't reject the null hypothesis\")"
   ]
  },
  {
   "cell_type": "code",
   "execution_count": null,
   "id": "ade1e2f6",
   "metadata": {},
   "outputs": [],
   "source": [
    "st.text('N0: Foreign and Domestic SUV make listing dates are similar \\nN1: Foreign Make SUV listing dates are statistically different than domestic')\n",
    "st.text_area('P Value, if below 0.05 reject null hypothesis', hypo_results.pvalue)"
   ]
  },
  {
   "attachments": {},
   "cell_type": "markdown",
   "id": "4778728c",
   "metadata": {},
   "source": [
    "Unique list for condition of the car was isolated. Then Select box was created to filter through the condition of the cars. The vehicles data were queried to group between foreign and domestic make of cars, and filtered for SUV type cars. The filtered and quired data was then filtered through the selectbox condition to filter through the condition of the cars. \n",
    "\n",
    "The make and model year data were correlated with the days listed, and get their mean. This was used to make a histogram, and passed through streamlit.\n",
    "\n",
    "The data was passed through statistical analysis, to find mean, variance,  standard deviation, and t tested."
   ]
  },
  {
   "cell_type": "markdown",
   "id": "ad24368b",
   "metadata": {},
   "source": []
  },
  {
   "attachments": {},
   "cell_type": "markdown",
   "id": "cd65ec25",
   "metadata": {},
   "source": [
    "Analyzing the mean price between domestic and foreign SUV make and their model years"
   ]
  },
  {
   "cell_type": "code",
   "execution_count": null,
   "id": "58b3c39a",
   "metadata": {},
   "outputs": [
    {
     "ename": "NameError",
     "evalue": "name 'st' is not defined",
     "output_type": "error",
     "traceback": [
      "\u001b[1;31m---------------------------------------------------------------------------\u001b[0m",
      "\u001b[1;31mNameError\u001b[0m                                 Traceback (most recent call last)",
      "\u001b[1;32m~\\AppData\\Local\\Temp\\ipykernel_16884\\1305103816.py\u001b[0m in \u001b[0;36m<module>\u001b[1;34m\u001b[0m\n\u001b[0;32m      1\u001b[0m \u001b[0mdom_price\u001b[0m\u001b[1;33m=\u001b[0m\u001b[0msuv_dom\u001b[0m\u001b[1;33m.\u001b[0m\u001b[0mgroupby\u001b[0m\u001b[1;33m(\u001b[0m\u001b[1;33m[\u001b[0m\u001b[1;34m'make'\u001b[0m\u001b[1;33m,\u001b[0m\u001b[1;34m'model_year'\u001b[0m\u001b[1;33m]\u001b[0m\u001b[1;33m)\u001b[0m\u001b[1;33m[\u001b[0m\u001b[1;34m'price'\u001b[0m\u001b[1;33m]\u001b[0m\u001b[1;33m.\u001b[0m\u001b[0mmean\u001b[0m\u001b[1;33m(\u001b[0m\u001b[1;33m)\u001b[0m\u001b[1;33m.\u001b[0m\u001b[0mreset_index\u001b[0m\u001b[1;33m(\u001b[0m\u001b[1;33m)\u001b[0m\u001b[1;33m\u001b[0m\u001b[1;33m\u001b[0m\u001b[0m\n\u001b[0;32m      2\u001b[0m \u001b[0mfig_dom_price\u001b[0m \u001b[1;33m=\u001b[0m \u001b[0mpx\u001b[0m\u001b[1;33m.\u001b[0m\u001b[0mscatter\u001b[0m\u001b[1;33m(\u001b[0m\u001b[0mdom_price\u001b[0m\u001b[1;33m,\u001b[0m \u001b[0mx\u001b[0m\u001b[1;33m=\u001b[0m\u001b[1;34m\"model_year\"\u001b[0m\u001b[1;33m,\u001b[0m \u001b[0my\u001b[0m\u001b[1;33m=\u001b[0m\u001b[1;34m\"price\"\u001b[0m\u001b[1;33m,\u001b[0m\u001b[0mcolor\u001b[0m\u001b[1;33m=\u001b[0m\u001b[1;34m'make'\u001b[0m\u001b[1;33m,\u001b[0m \u001b[0mlabels\u001b[0m\u001b[1;33m=\u001b[0m\u001b[1;33m{\u001b[0m\u001b[1;34m\"model_year\"\u001b[0m\u001b[1;33m:\u001b[0m\u001b[1;34m\"Year\"\u001b[0m\u001b[1;33m,\u001b[0m \u001b[1;34m\"price\"\u001b[0m\u001b[1;33m:\u001b[0m\u001b[1;34m\"USD\"\u001b[0m\u001b[1;33m}\u001b[0m\u001b[1;33m,\u001b[0m \u001b[0mtitle\u001b[0m\u001b[1;33m=\u001b[0m\u001b[1;34m\"Price vs SUV Make and Year\"\u001b[0m\u001b[1;33m)\u001b[0m\u001b[1;33m\u001b[0m\u001b[1;33m\u001b[0m\u001b[0m\n\u001b[1;32m----> 3\u001b[1;33m \u001b[0mst\u001b[0m\u001b[1;33m.\u001b[0m\u001b[0mplotly_chart\u001b[0m\u001b[1;33m(\u001b[0m\u001b[0mfig_dom_price\u001b[0m\u001b[1;33m,\u001b[0m \u001b[0mtheme\u001b[0m\u001b[1;33m=\u001b[0m\u001b[1;32mNone\u001b[0m\u001b[1;33m,\u001b[0m \u001b[0muse_container_width\u001b[0m\u001b[1;33m=\u001b[0m\u001b[1;32mTrue\u001b[0m\u001b[1;33m)\u001b[0m\u001b[1;33m\u001b[0m\u001b[1;33m\u001b[0m\u001b[0m\n\u001b[0m",
      "\u001b[1;31mNameError\u001b[0m: name 'st' is not defined"
     ]
    }
   ],
   "source": [
    "dom_price=suv_dom.groupby(['make','model_year'])['price'].mean().reset_index()\n",
    "fig_dom_price = px.scatter(dom_price, x=\"model_year\", y=\"price\",color='make', labels={\"model_year\":\"Year\", \"price\":\"USD\"}, title=\"Price vs Domestic SUV Make and Year\")\n",
    "st.plotly_chart(fig_dom_price, theme=None, use_container_width=True)\n"
   ]
  },
  {
   "cell_type": "code",
   "execution_count": null,
   "id": "74929f33",
   "metadata": {},
   "outputs": [],
   "source": [
    "int_price=suv_int.groupby(['make','model_year'])['price'].mean().reset_index()\n",
    "fig_int_price = px.scatter(int_price, x=\"model_year\", y=\"price\",color='make', labels={\"model_year\":\"Year\", \"price\":\"USD\"}, title=\"Price vs Foreign SUV Make and Year\")\n",
    "st.plotly_chart(fig_int_price, theme=None, use_container_width=True)"
   ]
  },
  {
   "cell_type": "code",
   "execution_count": null,
   "id": "f267c7ef",
   "metadata": {},
   "outputs": [
    {
     "ename": "NameError",
     "evalue": "name 'dom_price' is not defined",
     "output_type": "error",
     "traceback": [
      "\u001b[1;31m---------------------------------------------------------------------------\u001b[0m",
      "\u001b[1;31mNameError\u001b[0m                                 Traceback (most recent call last)",
      "\u001b[1;32m~\\AppData\\Local\\Temp\\ipykernel_16884\\3460444236.py\u001b[0m in \u001b[0;36m<module>\u001b[1;34m\u001b[0m\n\u001b[1;32m----> 1\u001b[1;33m \u001b[0mdom_price_mean\u001b[0m\u001b[1;33m=\u001b[0m\u001b[0mdom_price\u001b[0m\u001b[1;33m[\u001b[0m\u001b[1;34m'price'\u001b[0m\u001b[1;33m]\u001b[0m\u001b[1;33m.\u001b[0m\u001b[0mmean\u001b[0m\u001b[1;33m(\u001b[0m\u001b[1;33m)\u001b[0m\u001b[1;33m\u001b[0m\u001b[1;33m\u001b[0m\u001b[0m\n\u001b[0m\u001b[0;32m      2\u001b[0m \u001b[0mint_price_mean\u001b[0m\u001b[1;33m=\u001b[0m\u001b[0mint_price\u001b[0m\u001b[1;33m[\u001b[0m\u001b[1;34m'price'\u001b[0m\u001b[1;33m]\u001b[0m\u001b[1;33m.\u001b[0m\u001b[0mmean\u001b[0m\u001b[1;33m(\u001b[0m\u001b[1;33m)\u001b[0m\u001b[1;33m\u001b[0m\u001b[1;33m\u001b[0m\u001b[0m\n\u001b[0;32m      3\u001b[0m \u001b[0mdom_price_var\u001b[0m \u001b[1;33m=\u001b[0m \u001b[0mnp\u001b[0m\u001b[1;33m.\u001b[0m\u001b[0mvar\u001b[0m\u001b[1;33m(\u001b[0m\u001b[0mdom_price\u001b[0m\u001b[1;33m[\u001b[0m\u001b[1;34m'price'\u001b[0m\u001b[1;33m]\u001b[0m\u001b[1;33m)\u001b[0m\u001b[1;33m\u001b[0m\u001b[1;33m\u001b[0m\u001b[0m\n\u001b[0;32m      4\u001b[0m \u001b[0mint_price_var\u001b[0m \u001b[1;33m=\u001b[0m \u001b[0mnp\u001b[0m\u001b[1;33m.\u001b[0m\u001b[0mvar\u001b[0m\u001b[1;33m(\u001b[0m\u001b[0mint_price\u001b[0m\u001b[1;33m[\u001b[0m\u001b[1;34m'price'\u001b[0m\u001b[1;33m]\u001b[0m\u001b[1;33m)\u001b[0m\u001b[1;33m\u001b[0m\u001b[1;33m\u001b[0m\u001b[0m\n\u001b[0;32m      5\u001b[0m \u001b[0mdom_price_std\u001b[0m\u001b[1;33m=\u001b[0m\u001b[0mnp\u001b[0m\u001b[1;33m.\u001b[0m\u001b[0mstd\u001b[0m\u001b[1;33m(\u001b[0m\u001b[0mdom_price\u001b[0m\u001b[1;33m[\u001b[0m\u001b[1;34m'price'\u001b[0m\u001b[1;33m]\u001b[0m\u001b[1;33m)\u001b[0m\u001b[1;33m\u001b[0m\u001b[1;33m\u001b[0m\u001b[0m\n",
      "\u001b[1;31mNameError\u001b[0m: name 'dom_price' is not defined"
     ]
    }
   ],
   "source": [
    "dom_price_mean=dom_price['price'].mean()\n",
    "int_price_mean=int_price['price'].mean()\n",
    "dom_price_var = np.var(dom_price['price'])\n",
    "int_price_var = np.var(int_price['price'])\n",
    "dom_price_std=np.std(dom_price['price'])\n",
    "int_price_std=np.std(int_price['price'])"
   ]
  },
  {
   "attachments": {},
   "cell_type": "markdown",
   "id": "d12756e3",
   "metadata": {},
   "source": [
    "N0: Foreign and Domestic SUV make prices are similar\n",
    "N1: Foreign Make SUV prices are statistically different than domestic"
   ]
  },
  {
   "cell_type": "code",
   "execution_count": null,
   "id": "6357dcc1",
   "metadata": {},
   "outputs": [
    {
     "name": "stdout",
     "output_type": "stream",
     "text": [
      "p-value: 0.03010203708134902\n",
      "We reject the null hypothesis\n"
     ]
    }
   ],
   "source": [
    "alpha = 0.05\n",
    "\n",
    "hypo2_results = stat.ttest_ind(dom_price['price'], int_price['price'], equal_var=False)\n",
    "\n",
    "print('p-value:', hypo2_results.pvalue)\n",
    "\n",
    "if hypo2_results.pvalue < alpha:\n",
    "    print(\"We reject the null hypothesis\")\n",
    "else:\n",
    "    print(\"We can't reject the null hypothesis\")"
   ]
  },
  {
   "cell_type": "code",
   "execution_count": null,
   "id": "ce0de685",
   "metadata": {},
   "outputs": [],
   "source": [
    "st.text('N0: Foreign and Domestic SUV make prices are similar \\nN1: Foreign Make SUV prices are statistically different than domestic')\n",
    "st.text_area('P Value, if below 0.05 reject null hypothesis', hypo2_results.pvalue)"
   ]
  },
  {
   "attachments": {},
   "cell_type": "markdown",
   "id": "d1c79dae",
   "metadata": {},
   "source": [
    "The prior analysis continued, except processing the relationship of the price of the SUV make and their model year. The data was then modeled in a scatter plot."
   ]
  },
  {
   "attachments": {},
   "cell_type": "markdown",
   "id": "c63890ae",
   "metadata": {},
   "source": [
    "Conclusion:\n",
    "\n",
    "The selectbox appropriately filters through the conditions of the cars, and changes the behavior of the charts. The chart thats created appropriately represents the conditions set. The analytical data and the t test varies based upon the condition of the SUV.\n",
    "\n",
    "The analysis indicates that there is no statistical difference in the days listed between foreign and domestic make of the SUV, through all the conditions. In retrospect, for the pricing there is statistical difference in the price between foreign and domestic make SUV, for the excellent and like new conditioned SUV.\n",
    "\n",
    "Though, a large amount of data were removed due to the missing model years, the removal of those data were necessary for further processing of the data. "
   ]
  }
 ],
 "metadata": {
  "kernelspec": {
   "display_name": "Python 3 (ipykernel)",
   "language": "python",
   "name": "python3"
  },
  "language_info": {
   "codemirror_mode": {
    "name": "ipython",
    "version": 3
   },
   "file_extension": ".py",
   "mimetype": "text/x-python",
   "name": "python",
   "nbconvert_exporter": "python",
   "pygments_lexer": "ipython3",
   "version": "3.9.13"
  }
 },
 "nbformat": 4,
 "nbformat_minor": 5
}
